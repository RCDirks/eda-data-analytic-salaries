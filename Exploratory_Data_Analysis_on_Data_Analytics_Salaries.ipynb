{
  "nbformat": 4,
  "nbformat_minor": 0,
  "metadata": {
    "colab": {
      "private_outputs": true,
      "provenance": [],
      "include_colab_link": true
    },
    "kernelspec": {
      "name": "python3",
      "display_name": "Python 3"
    },
    "language_info": {
      "name": "python"
    }
  },
  "cells": [
    {
      "cell_type": "markdown",
      "metadata": {
        "id": "view-in-github",
        "colab_type": "text"
      },
      "source": [
        "<a href=\"https://colab.research.google.com/github/RCDirks/eda-data-analytic-salaries/blob/main/Exploratory_Data_Analysis_on_Data_Analytics_Salaries.ipynb\" target=\"_parent\"><img src=\"https://colab.research.google.com/assets/colab-badge.svg\" alt=\"Open In Colab\"/></a>"
      ]
    },
    {
      "cell_type": "markdown",
      "source": [
        "# Exploratory Data Analysis on Data Analytics Salaries\n",
        "\n",
        "Rachel Dirks\n",
        "\n",
        "This analysis explores salaries of data analytics professionals around the world to find patterns in the data. Specifically, the goal is to determine which factors influence pay rates around the world and learn more about what a career path might look like for somebody starting out in Data Analytics.\n",
        "\n",
        "## About the data\n",
        "This data set comes from Kaggle user [randomarnab](https://www.kaggle.com/datasets/arnabchaki/data-science-salaries-2023) and contains information about various roles in data analytics from around the world. The data was gathered in 2023 and contains details about each role's experience level, job title, salary, remote ratio, company location, and company size."
      ],
      "metadata": {
        "id": "yfZYmnUK-nXS"
      }
    },
    {
      "cell_type": "code",
      "execution_count": null,
      "metadata": {
        "id": "_JbG77Cr-hH1"
      },
      "outputs": [],
      "source": [
        "import pandas as pd\n",
        "df = pd.read_csv('data_analytics_salaries.csv')"
      ]
    },
    {
      "cell_type": "markdown",
      "source": [
        "## Analysis\n",
        "The analysis below explores salaries of data analytics professionals. Specifically, it will explore the following different topics:\n",
        "\n",
        "- How does experience level affect salary?\n",
        "- How does experience level affect remote ratio?\n",
        "- Which job titles are the most common in the United States and how does the job title affect salary?\n",
        "- How have salaries changed between 2020 and 2022 for Data Analysts?\n",
        "- Where are most data analytics positions located (according to this data set)? Which countries pay the most?\n",
        "- What percent of employees are based in another country but are paid in USD?\n",
        "\n",
        "One notable aspect of this data set is the presence of both `salary` and `salary_in_usd` columns. The former details the salary for the position in the local currency where the company is based, whereas the latter column standardizes all of the salaries into USD. Thus, this analysis will exclusively use the `salary_in_usd` column for comparisons."
      ],
      "metadata": {
        "id": "siXLCBgYWADj"
      }
    },
    {
      "cell_type": "code",
      "source": [
        "df.head()"
      ],
      "metadata": {
        "id": "x1m-EkygUxU3"
      },
      "execution_count": null,
      "outputs": []
    },
    {
      "cell_type": "code",
      "source": [
        "df.info()"
      ],
      "metadata": {
        "id": "rr6FM_VSWDWZ"
      },
      "execution_count": null,
      "outputs": []
    },
    {
      "cell_type": "code",
      "source": [
        "df.describe()"
      ],
      "metadata": {
        "id": "1XPDVVxZayOK"
      },
      "execution_count": null,
      "outputs": []
    },
    {
      "cell_type": "markdown",
      "source": [
        "### How does experience level affect salary?\n",
        "At first glance, experience level seems to be the obvious candidate for the most influential variable in determining salary for data analytics professionals. This analysis assumes that the experiences levels are, in order from least amount of experience to greatest:\n",
        "\n",
        "1. EN - Entry level\n",
        "2. MI - Mid-level\n",
        "3. SE - Senior level\n",
        "4. EX - Executive level\n",
        "\n",
        "According to the output of the code below, average salary tends to increase, as hypothesized, as experience level increases. However, these figures may be skewed because part-time salaries are included in the data set. Because part-time workers are more likely to be entry level and mid-level, the lower salaries of these positions (which are caused by working few hours) should be removed for this part of the analysis."
      ],
      "metadata": {
        "id": "NdengnC1dVP-"
      }
    },
    {
      "cell_type": "code",
      "source": [
        "df[['experience_level', 'salary_in_usd']].groupby('experience_level').mean().sort_values(by='salary_in_usd')"
      ],
      "metadata": {
        "id": "jlwALIS5bXhj"
      },
      "execution_count": null,
      "outputs": []
    },
    {
      "cell_type": "markdown",
      "source": [
        "The code below creates a subset of the data that contains only positions that were full time. Recalculating the average salary for each experience level among this new subset brought the average salaries closer together only slightly. The change in average salary was most unnoticeable."
      ],
      "metadata": {
        "id": "eFk6DGuLlGPQ"
      }
    },
    {
      "cell_type": "code",
      "source": [
        "# Get a subset that only includes full time (FT)\n",
        "df[df['employment_type'] == 'FT']"
      ],
      "metadata": {
        "id": "4FQlCFUpjFdb"
      },
      "execution_count": null,
      "outputs": []
    },
    {
      "cell_type": "code",
      "source": [
        "# Average Full-Time Salary\n",
        "full_time = df[df['employment_type'] == 'FT']\n",
        "ft_en = df[(df['experience_level'] == 'EN') & (df['employment_type'] == 'FT')]\n",
        "ft_en['salary_in_usd'].mean()"
      ],
      "metadata": {
        "id": "Ojl9M4Qt4xw1"
      },
      "execution_count": null,
      "outputs": []
    },
    {
      "cell_type": "markdown",
      "source": [
        "From this analysis, I can conclude that experience is necessary to obtaining a higher salary. Salaries tend to vary greatly across different experience levels, meaning that experience is likely very influential for determining a person's salary."
      ],
      "metadata": {
        "id": "zrCCF-45lgT-"
      }
    },
    {
      "cell_type": "markdown",
      "source": [
        "### How does experience level affect remote ratio?\n",
        "When determining how much employees are allowed to work remotely, I immediately think that senior employees are given more liberty to work from home than employees with less experience.\n",
        "\n",
        "However, according to the results of the code below...\n",
        "\n",
        "Executive employees are given the most liberty to work from home with 79% able to work remotely and 69% of that having 100% remote. Senior level employees are next with 76% able to work from home and 71% of that having 100% ability to work from home. Entry level employees are next with 69% able to work from home and 56% of that having 100% ability to work from home. Mid-level employees are only slightly below Entry level employees at 63% being able to work from home and 54% of that having 100% ablity to work from home."
      ],
      "metadata": {
        "id": "O5QnhMvyldET"
      }
    },
    {
      "cell_type": "code",
      "source": [
        "# Remote ratio based on experience\n",
        "entry = df[df['experience_level'] == 'EN']\n",
        "remote_entry = entry['remote_ratio'].mean()\n",
        "remote_entry\n"
      ],
      "metadata": {
        "id": "4HYC8YvVlBmW"
      },
      "execution_count": null,
      "outputs": []
    },
    {
      "cell_type": "code",
      "source": [
        "entry['remote_ratio'].value_counts(normalize=True)"
      ],
      "metadata": {
        "id": "HZzVzax9GAEl"
      },
      "execution_count": null,
      "outputs": []
    },
    {
      "cell_type": "code",
      "source": [
        "mid = df[df['experience_level'] == 'MI']\n",
        "remote_mid = mid['remote_ratio'].mean()\n",
        "remote_mid"
      ],
      "metadata": {
        "id": "3-xm3REOCnEr"
      },
      "execution_count": null,
      "outputs": []
    },
    {
      "cell_type": "code",
      "source": [
        "mid['remote_ratio'].value_counts(normalize=True)"
      ],
      "metadata": {
        "id": "aSa8rbX2Ga3A"
      },
      "execution_count": null,
      "outputs": []
    },
    {
      "cell_type": "code",
      "source": [
        "senior = df[df['experience_level'] == 'SE']\n",
        "remote_senior = senior['remote_ratio'].mean()\n",
        "remote_senior"
      ],
      "metadata": {
        "id": "a43WewcjCxVs"
      },
      "execution_count": null,
      "outputs": []
    },
    {
      "cell_type": "code",
      "source": [
        "senior['remote_ratio'].value_counts(normalize=True)"
      ],
      "metadata": {
        "id": "SfkOPnszGphX"
      },
      "execution_count": null,
      "outputs": []
    },
    {
      "cell_type": "code",
      "source": [
        "exec = df[df['experience_level'] == 'EX']\n",
        "remote_exec = exec['remote_ratio'].mean()\n",
        "remote_exec\n"
      ],
      "metadata": {
        "id": "np0lm0bTC79s"
      },
      "execution_count": null,
      "outputs": []
    },
    {
      "cell_type": "code",
      "source": [
        "exec['remote_ratio'].value_counts(normalize=True)"
      ],
      "metadata": {
        "id": "eWXtUOTCGqJM"
      },
      "execution_count": null,
      "outputs": []
    },
    {
      "cell_type": "code",
      "source": [
        "remote_entry_20 = df[(df['experience_level'] == 'EN') & (df['work_year'] == 2020)]\n",
        "remote_entry_20['remote_ratio'].mean()\n"
      ],
      "metadata": {
        "id": "cdhfsi8SK7gN"
      },
      "execution_count": null,
      "outputs": []
    },
    {
      "cell_type": "code",
      "source": [
        "remote_entry_22 = df[(df['experience_level'] == 'EN') & (df['work_year'] == 2022)]\n",
        "remote_entry_22['remote_ratio'].mean()"
      ],
      "metadata": {
        "id": "qZqC-UrkK9ig"
      },
      "execution_count": null,
      "outputs": []
    },
    {
      "cell_type": "code",
      "source": [
        "remote_mid_20 = df[(df['experience_level'] == 'MI') & (df['work_year'] == 2020)]\n",
        "remote_mid_20['remote_ratio'].mean()"
      ],
      "metadata": {
        "id": "hgOhJFxHMUQO"
      },
      "execution_count": null,
      "outputs": []
    },
    {
      "cell_type": "code",
      "source": [
        "remote_mid_22 = df[(df['experience_level'] == 'MI') & (df['work_year'] == 2022)]\n",
        "remote_mid_22['remote_ratio'].mean()"
      ],
      "metadata": {
        "id": "zTJsyoF4MUx9"
      },
      "execution_count": null,
      "outputs": []
    },
    {
      "cell_type": "code",
      "source": [
        "remote_senior_20 = df[(df['experience_level'] == 'SE') & (df['work_year'] == 2020)]\n",
        "remote_senior_20['remote_ratio'].mean()"
      ],
      "metadata": {
        "id": "zOJpsMx7MVKw"
      },
      "execution_count": null,
      "outputs": []
    },
    {
      "cell_type": "code",
      "source": [
        "remote_senior_22 = df[(df['experience_level'] == 'SE') & (df['work_year'] == 2022)]\n",
        "remote_senior_22['remote_ratio'].mean()"
      ],
      "metadata": {
        "id": "tYFAmG9UMVpj"
      },
      "execution_count": null,
      "outputs": []
    },
    {
      "cell_type": "code",
      "source": [
        "remote_exec_20 = df[(df['experience_level'] == 'EX') & (df['work_year'] == 2020)]\n",
        "remote_exec_20['remote_ratio'].mean()"
      ],
      "metadata": {
        "id": "P3bDQ2BvMWLU"
      },
      "execution_count": null,
      "outputs": []
    },
    {
      "cell_type": "code",
      "source": [
        "remote_exec_22 = df[(df['experience_level'] == 'EX') & (df['work_year'] == 2022)]\n",
        "remote_exec_22['remote_ratio'].mean()"
      ],
      "metadata": {
        "id": "JZXlmw12MWh_"
      },
      "execution_count": null,
      "outputs": []
    },
    {
      "cell_type": "markdown",
      "source": [
        "### Which job titles are the most common in the United States and how do they affect salary?\n",
        "\n",
        "The top 5 job titles are Data Engineer, Data Scientist, Data Analyst, Machine Learning Engineer and Data Science Manager with the following salaries.\n",
        "\n",
        "Data Engineer = $139,724.68\n",
        "\n",
        "Data Scientist = $143,115.68\n",
        "\n",
        "Data Analyst = $107,674.15\n",
        "\n",
        "Machine Learning Engineer = $169,055.75\n",
        "\n",
        "Data Science Manager = $165,327.70\n",
        "\n",
        "However, after breaking it up I found that the top three titles were included at the entry, mid and senior levels. The top 5 titles are also not in the top 5 for earnings. The top five in earnings are as follows.\n",
        "\n",
        "Data Analytics Lead\t= $405,000.00 (senior level)\n",
        "\n",
        "Principal Data Engineer\t=\t$328,333.33 (senior level)\n",
        "\n",
        "Director of Data Science = $287,500.00 (senior level)\n",
        "\n",
        "Financial Data Analyst = $275,000.00 (entry & mid level)\n",
        "\n",
        "ML Engineer = $263,000.00 (mid & senior level)\n",
        "\n",
        "The majority of which are senior level postions."
      ],
      "metadata": {
        "id": "OXtrvpR43QIC"
      }
    },
    {
      "cell_type": "code",
      "source": [
        "# Frequency of job titles in the US\n",
        "df[df['company_location'] == 'US'].value_counts('job_title')"
      ],
      "metadata": {
        "id": "wwOvRw1HBWgT"
      },
      "execution_count": null,
      "outputs": []
    },
    {
      "cell_type": "code",
      "source": [
        "us_jobs = df[df['company_location'] == 'US']"
      ],
      "metadata": {
        "id": "SeV4cKKsKQaX"
      },
      "execution_count": null,
      "outputs": []
    },
    {
      "cell_type": "code",
      "source": [
        "# Highest paying jobs in the US\n",
        "us_jobs.groupby('job_title').mean('salary_in_usd').sort_values('salary_in_usd', ascending=False)"
      ],
      "metadata": {
        "id": "Jcx_4cj8E2XA"
      },
      "execution_count": null,
      "outputs": []
    },
    {
      "cell_type": "code",
      "source": [
        "df[df['company_location'] == 'US'].value_counts('job_title')"
      ],
      "metadata": {
        "id": "-h9FQmTHNjOY"
      },
      "execution_count": null,
      "outputs": []
    },
    {
      "cell_type": "code",
      "source": [
        "# Frequency of job titles in the US by experience level\n",
        "entry[entry['company_location'] == 'US'].value_counts('job_title')"
      ],
      "metadata": {
        "id": "O93Dm4Zh5m1a"
      },
      "execution_count": null,
      "outputs": []
    },
    {
      "cell_type": "code",
      "source": [
        "mid[mid['company_location'] == 'US'].value_counts('job_title')"
      ],
      "metadata": {
        "id": "kvFJ4_5PBEj5"
      },
      "execution_count": null,
      "outputs": []
    },
    {
      "cell_type": "code",
      "source": [
        "senior[senior['company_location'] == 'US'].value_counts('job_title')"
      ],
      "metadata": {
        "id": "Xi1qcm50BOBG"
      },
      "execution_count": null,
      "outputs": []
    },
    {
      "cell_type": "code",
      "source": [
        "exec[exec['company_location'] == 'US'].value_counts('job_title')"
      ],
      "metadata": {
        "id": "bX2LKOdDBTeQ"
      },
      "execution_count": null,
      "outputs": []
    },
    {
      "cell_type": "code",
      "source": [
        "data_analyst_salaries_median = df[(df['company_location'] == 'US') & (df['job_title'] == 'Data Analyst')]\n",
        "data_analyst_salaries_median['salary_in_usd'].median()"
      ],
      "metadata": {
        "id": "sxl8FAtsN_5a"
      },
      "execution_count": null,
      "outputs": []
    },
    {
      "cell_type": "code",
      "source": [
        "data_analyst_salaries_stdev = df[(df['company_location'] == 'US') & (df['job_title'] == 'Machine Learning Engineer')]\n",
        "data_analyst_salaries_stdev['salary_in_usd'].std()"
      ],
      "metadata": {
        "id": "Dsv2DA4rO44L"
      },
      "execution_count": null,
      "outputs": []
    },
    {
      "cell_type": "code",
      "source": [
        "data_analyst_salaries_avg = df[(df['company_location'] == 'US') & (df['job_title'] == 'Data Engineer')]\n",
        "data_analyst_salaries_avg['salary_in_usd'].mean()"
      ],
      "metadata": {
        "id": "FWxTg6xaPn2g"
      },
      "execution_count": null,
      "outputs": []
    },
    {
      "cell_type": "markdown",
      "source": [
        "### How have salaries changed between 2020 and 2022 for Data Analysts?\n",
        "\n",
        "As a whole salaries have risen. The average salary has risen almost $30,000.00.\n",
        "\n",
        "The median salary has risen over almost $45,000.00.\n",
        "\n",
        "The most common salary in 2020 was $79,833.00.\n",
        "\n",
        "The most common salary in 2022 was $100,000.00."
      ],
      "metadata": {
        "id": "phmwboOc_CRc"
      }
    },
    {
      "cell_type": "code",
      "source": [
        "work_year_2020 = df[df['work_year'] == 2020]\n",
        "work_year_2020['salary_in_usd'].value_counts()"
      ],
      "metadata": {
        "id": "BO4Xf-o2925B"
      },
      "execution_count": null,
      "outputs": []
    },
    {
      "cell_type": "code",
      "source": [
        "work_year_2020['salary_in_usd'].mean()"
      ],
      "metadata": {
        "id": "f-DfqrhCTvRs"
      },
      "execution_count": null,
      "outputs": []
    },
    {
      "cell_type": "code",
      "source": [
        "work_year_2020['salary_in_usd'].median()"
      ],
      "metadata": {
        "id": "nI6CehifT1I6"
      },
      "execution_count": null,
      "outputs": []
    },
    {
      "cell_type": "code",
      "source": [
        "work_year_2022 = df[df['work_year'] == 2022]\n",
        "work_year_2022['salary_in_usd'].value_counts()"
      ],
      "metadata": {
        "id": "_imOUjoVGbLG"
      },
      "execution_count": null,
      "outputs": []
    },
    {
      "cell_type": "code",
      "source": [
        "work_year_2022['salary_in_usd'].mean()"
      ],
      "metadata": {
        "id": "KrOxDiquT9xO"
      },
      "execution_count": null,
      "outputs": []
    },
    {
      "cell_type": "code",
      "source": [
        "work_year_2022['salary_in_usd'].median()"
      ],
      "metadata": {
        "id": "jB0Adx5jUCKv"
      },
      "execution_count": null,
      "outputs": []
    },
    {
      "cell_type": "code",
      "source": [
        "data_analyst_salaries_2021 = df[(df['work_year'] == 2021) & (df['job_title'] == 'Data Analyst')]\n",
        "data_analyst_salaries_2021['salary_in_usd'].mean()"
      ],
      "metadata": {
        "id": "s_Bk9EAFQJ5c"
      },
      "execution_count": null,
      "outputs": []
    },
    {
      "cell_type": "markdown",
      "source": [
        "### Where are most data analytics positions located (according to this data set)? Which countries pay the most?\n",
        "\n",
        "The US has the most data analytics jobs with 355 positions. The US also pays the most, they hold 19 of the top 20 spots for salary."
      ],
      "metadata": {
        "id": "4sk7XAF3BXRD"
      }
    },
    {
      "cell_type": "code",
      "source": [
        "df['company_location'].value_counts()"
      ],
      "metadata": {
        "id": "5DHaVSQ4A9xJ"
      },
      "execution_count": null,
      "outputs": []
    },
    {
      "cell_type": "code",
      "source": [
        "df[['company_location', 'salary_in_usd']].sort_values(by= \"salary_in_usd\", ascending=False).head(20)"
      ],
      "metadata": {
        "id": "r8FxUBG0NBnt"
      },
      "execution_count": null,
      "outputs": []
    },
    {
      "cell_type": "code",
      "source": [
        "df['company_location'].value_counts()"
      ],
      "metadata": {
        "id": "ecNYp120RYjl"
      },
      "execution_count": null,
      "outputs": []
    },
    {
      "cell_type": "code",
      "source": [
        "# Where would I like to work\n",
        "work_country = df[df['company_location'] == 'GB']\n",
        "work_country['salary_in_usd'].mean()"
      ],
      "metadata": {
        "id": "HmpjYIaySHWt"
      },
      "execution_count": null,
      "outputs": []
    },
    {
      "cell_type": "code",
      "source": [
        "work_country['job_title'].value_counts()"
      ],
      "metadata": {
        "id": "GV-W8v4aa-zf"
      },
      "execution_count": null,
      "outputs": []
    },
    {
      "cell_type": "markdown",
      "source": [
        "### What percent of employees are based in another country but are paid in USD?\n",
        "This is a tricky one.\n",
        "\n",
        "To figure this out, I'll need to make a filter that gets out only employees that are in countries that are not the United States and whose salary currency is USD. Then, I can see how many rows that dataframe has and divide it by the number of rows in the original dataframe to get the answer.\n",
        "\n",
        "Approximately 8% of employees are based outside of the US but are payed in US dollars."
      ],
      "metadata": {
        "id": "Js42Iut5DzQ-"
      }
    },
    {
      "cell_type": "code",
      "source": [
        "percent_of_employees = df[(df['company_location'] != 'US') & (df['salary_currency'] == 'USD')]"
      ],
      "metadata": {
        "id": "UiOC-NBdEWmG"
      },
      "execution_count": null,
      "outputs": []
    },
    {
      "cell_type": "code",
      "source": [
        "percent_of_employees"
      ],
      "metadata": {
        "id": "l7JQ6f15YZla"
      },
      "execution_count": null,
      "outputs": []
    },
    {
      "cell_type": "code",
      "source": [
        "percent_of_employees.info()"
      ],
      "metadata": {
        "id": "eu4EkOEOYWAl"
      },
      "execution_count": null,
      "outputs": []
    },
    {
      "cell_type": "code",
      "source": [
        "print(50/607)"
      ],
      "metadata": {
        "id": "m8rvl0-WAeE5"
      },
      "execution_count": null,
      "outputs": []
    },
    {
      "cell_type": "code",
      "source": [
        "avg_salary_china = df[df['company_location'] == 'CH']\n",
        "avg_salary_china['salary_in_usd'].mean()"
      ],
      "metadata": {
        "id": "wSf7FrpkSJ6I"
      },
      "execution_count": null,
      "outputs": []
    },
    {
      "cell_type": "markdown",
      "source": [
        "## Conclusion\n",
        "Salaries for data analysts as a whole have risen in the past two years. While entry postions can pay quite well, mid and senior level postions do pay more. Remote postions are also on the rise with most being at the senior level. The majority of the data analysts jobs are in the US, with the US having the highest salaries."
      ],
      "metadata": {
        "id": "TWCvnB1JEaXd"
      }
    }
  ]
}